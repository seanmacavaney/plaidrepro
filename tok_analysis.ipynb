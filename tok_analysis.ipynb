{
 "cells": [
  {
   "cell_type": "code",
   "execution_count": 81,
   "id": "4a34733e-b573-490a-b07d-3682b58623c5",
   "metadata": {},
   "outputs": [],
   "source": [
    "from statistics import median\n",
    "import matplotlib.pyplot as plt\n",
    "import seaborn as sns"
   ]
  },
  {
   "cell_type": "code",
   "execution_count": 2,
   "id": "6fdd8956-baad-45ee-b610-0b9c7aa15936",
   "metadata": {
    "scrolled": true
   },
   "outputs": [
    {
     "name": "stdout",
     "output_type": "stream",
     "text": [
      "chunk 0\n",
      "chunk 1\n",
      "chunk 2\n",
      "chunk 3\n",
      "chunk 4\n",
      "chunk 5\n",
      "chunk 6\n",
      "chunk 7\n",
      "chunk 8\n",
      "chunk 9\n",
      "chunk 10\n",
      "chunk 11\n",
      "chunk 12\n",
      "chunk 13\n",
      "chunk 14\n",
      "chunk 15\n",
      "chunk 16\n",
      "chunk 17\n",
      "chunk 18\n",
      "chunk 19\n",
      "chunk 20\n",
      "chunk 21\n",
      "chunk 22\n",
      "chunk 23\n",
      "chunk 24\n",
      "chunk 25\n",
      "chunk 26\n",
      "chunk 27\n",
      "chunk 28\n",
      "chunk 29\n",
      "chunk 30\n",
      "chunk 31\n",
      "chunk 32\n",
      "chunk 33\n",
      "chunk 34\n",
      "chunk 35\n",
      "chunk 36\n",
      "chunk 37\n",
      "chunk 38\n",
      "chunk 39\n",
      "chunk 40\n",
      "chunk 41\n",
      "chunk 42\n",
      "chunk 43\n",
      "chunk 44\n",
      "chunk 45\n",
      "chunk 46\n",
      "chunk 47\n",
      "chunk 48\n",
      "chunk 49\n",
      "chunk 50\n",
      "chunk 51\n",
      "chunk 52\n",
      "chunk 53\n",
      "chunk 54\n",
      "chunk 55\n",
      "chunk 56\n",
      "chunk 57\n",
      "chunk 58\n",
      "chunk 59\n",
      "chunk 60\n",
      "chunk 61\n",
      "chunk 62\n",
      "chunk 63\n",
      "chunk 64\n",
      "chunk 65\n",
      "chunk 66\n",
      "chunk 67\n",
      "chunk 68\n",
      "chunk 69\n",
      "chunk 70\n",
      "chunk 71\n",
      "chunk 72\n",
      "chunk 73\n",
      "chunk 74\n",
      "chunk 75\n",
      "chunk 76\n",
      "chunk 77\n",
      "chunk 78\n",
      "chunk 79\n",
      "chunk 80\n",
      "chunk 81\n",
      "chunk 82\n",
      "chunk 83\n",
      "chunk 84\n",
      "chunk 85\n",
      "chunk 86\n",
      "chunk 87\n",
      "chunk 88\n",
      "chunk 89\n",
      "chunk 90\n",
      "chunk 91\n",
      "chunk 92\n",
      "chunk 93\n",
      "chunk 94\n",
      "chunk 95\n",
      "chunk 96\n",
      "chunk 97\n",
      "chunk 98\n",
      "chunk 99\n",
      "chunk 100\n",
      "chunk 101\n",
      "chunk 102\n",
      "chunk 103\n",
      "chunk 104\n",
      "chunk 105\n",
      "chunk 106\n",
      "chunk 107\n",
      "chunk 108\n",
      "chunk 109\n",
      "chunk 110\n",
      "chunk 111\n",
      "chunk 112\n",
      "chunk 113\n",
      "chunk 114\n",
      "chunk 115\n",
      "chunk 116\n",
      "chunk 117\n",
      "chunk 118\n",
      "chunk 119\n",
      "chunk 120\n",
      "chunk 121\n",
      "chunk 122\n",
      "chunk 123\n",
      "chunk 124\n",
      "chunk 125\n",
      "chunk 126\n",
      "chunk 127\n",
      "chunk 128\n",
      "chunk 129\n",
      "chunk 130\n",
      "chunk 131\n",
      "chunk 132\n",
      "chunk 133\n",
      "chunk 134\n",
      "chunk 135\n",
      "chunk 136\n",
      "chunk 137\n",
      "chunk 138\n",
      "chunk 139\n",
      "chunk 140\n",
      "chunk 141\n",
      "chunk 142\n",
      "chunk 143\n",
      "chunk 144\n",
      "chunk 145\n",
      "chunk 146\n",
      "chunk 147\n",
      "chunk 148\n",
      "chunk 149\n",
      "chunk 150\n",
      "chunk 151\n",
      "chunk 152\n",
      "chunk 153\n",
      "chunk 154\n",
      "chunk 155\n",
      "chunk 156\n",
      "chunk 157\n",
      "chunk 158\n",
      "chunk 159\n",
      "chunk 160\n",
      "chunk 161\n",
      "chunk 162\n",
      "chunk 163\n",
      "chunk 164\n",
      "chunk 165\n",
      "chunk 166\n",
      "chunk 167\n",
      "chunk 168\n",
      "chunk 169\n",
      "chunk 170\n",
      "chunk 171\n",
      "chunk 172\n",
      "chunk 173\n",
      "chunk 174\n",
      "chunk 175\n",
      "chunk 176\n",
      "chunk 177\n",
      "chunk 178\n",
      "chunk 179\n",
      "chunk 180\n",
      "chunk 181\n",
      "chunk 182\n",
      "chunk 183\n",
      "chunk 184\n",
      "chunk 185\n",
      "chunk 186\n",
      "chunk 187\n",
      "chunk 188\n",
      "chunk 189\n",
      "chunk 190\n",
      "chunk 191\n",
      "chunk 192\n",
      "chunk 193\n",
      "chunk 194\n",
      "chunk 195\n",
      "chunk 196\n",
      "chunk 197\n",
      "chunk 198\n",
      "chunk 199\n",
      "chunk 200\n",
      "chunk 201\n",
      "chunk 202\n",
      "chunk 203\n",
      "chunk 204\n",
      "chunk 205\n",
      "chunk 206\n",
      "chunk 207\n",
      "chunk 208\n",
      "chunk 209\n",
      "chunk 210\n",
      "chunk 211\n",
      "chunk 212\n",
      "chunk 213\n",
      "chunk 214\n",
      "chunk 215\n",
      "chunk 216\n",
      "chunk 217\n",
      "chunk 218\n",
      "chunk 219\n",
      "chunk 220\n",
      "chunk 221\n",
      "chunk 222\n",
      "chunk 223\n",
      "chunk 224\n",
      "chunk 225\n",
      "chunk 226\n",
      "chunk 227\n",
      "chunk 228\n",
      "chunk 229\n",
      "chunk 230\n",
      "chunk 231\n",
      "chunk 232\n",
      "chunk 233\n",
      "chunk 234\n",
      "chunk 235\n",
      "chunk 236\n",
      "chunk 237\n",
      "chunk 238\n",
      "chunk 239\n",
      "chunk 240\n",
      "chunk 241\n",
      "chunk 242\n",
      "chunk 243\n",
      "chunk 244\n",
      "chunk 245\n",
      "chunk 246\n",
      "chunk 247\n",
      "chunk 248\n",
      "chunk 249\n",
      "chunk 250\n",
      "chunk 251\n",
      "chunk 252\n",
      "chunk 253\n",
      "chunk 254\n",
      "chunk 255\n",
      "chunk 256\n",
      "chunk 257\n",
      "chunk 258\n",
      "chunk 259\n",
      "chunk 260\n",
      "chunk 261\n",
      "chunk 262\n",
      "chunk 263\n",
      "chunk 264\n",
      "chunk 265\n",
      "chunk 266\n",
      "chunk 267\n",
      "chunk 268\n",
      "chunk 269\n",
      "chunk 270\n",
      "chunk 271\n",
      "chunk 272\n",
      "chunk 273\n",
      "chunk 274\n",
      "chunk 275\n",
      "chunk 276\n",
      "chunk 277\n",
      "chunk 278\n",
      "chunk 279\n",
      "chunk 280\n",
      "chunk 281\n",
      "chunk 282\n",
      "chunk 283\n",
      "chunk 284\n",
      "chunk 285\n",
      "chunk 286\n",
      "chunk 287\n",
      "chunk 288\n",
      "chunk 289\n",
      "chunk 290\n",
      "chunk 291\n",
      "chunk 292\n",
      "chunk 293\n",
      "chunk 294\n",
      "chunk 295\n",
      "chunk 296\n",
      "chunk 297\n",
      "chunk 298\n",
      "chunk 299\n",
      "chunk 300\n",
      "chunk 301\n",
      "chunk 302\n",
      "chunk 303\n",
      "chunk 304\n",
      "chunk 305\n",
      "chunk 306\n",
      "chunk 307\n",
      "chunk 308\n",
      "chunk 309\n",
      "chunk 310\n",
      "chunk 311\n",
      "chunk 312\n",
      "chunk 313\n",
      "chunk 314\n",
      "chunk 315\n",
      "chunk 316\n",
      "chunk 317\n",
      "chunk 318\n",
      "chunk 319\n",
      "chunk 320\n",
      "chunk 321\n",
      "chunk 322\n",
      "chunk 323\n",
      "chunk 324\n",
      "chunk 325\n",
      "chunk 326\n",
      "chunk 327\n",
      "chunk 328\n",
      "chunk 329\n",
      "chunk 330\n",
      "chunk 331\n",
      "chunk 332\n",
      "chunk 333\n",
      "chunk 334\n",
      "chunk 335\n",
      "chunk 336\n",
      "chunk 337\n",
      "chunk 338\n",
      "chunk 339\n",
      "chunk 340\n",
      "chunk 341\n",
      "chunk 342\n",
      "chunk 343\n",
      "chunk 344\n",
      "chunk 345\n",
      "chunk 346\n",
      "chunk 347\n",
      "chunk 348\n",
      "chunk 349\n",
      "chunk 350\n",
      "chunk 351\n",
      "chunk 352\n",
      "chunk 353\n"
     ]
    }
   ],
   "source": [
    "import pandas as pd\n",
    "import torch\n",
    "import json\n",
    "from collections import Counter, defaultdict\n",
    "from transformers import AutoTokenizer\n",
    "\n",
    "tokenizer = AutoTokenizer.from_pretrained('downloads/colbertv2.0')\n",
    "\n",
    "chunk_idx = -1\n",
    "codes = []\n",
    "\n",
    "code2tok = defaultdict(Counter)\n",
    "tok2code = defaultdict(Counter)\n",
    "\n",
    "with open('ids.jsonl') as fin:\n",
    "  id_it = iter(fin)\n",
    "  next(id_it) # skip the first line -- it comes from the clustering step and doesn't correspond with the values in the codes.pt files\n",
    "  for ids in id_it:\n",
    "    ids = json.loads(ids)\n",
    "    if len(codes) == 0:\n",
    "      chunk_idx += 1\n",
    "      print(f'chunk {chunk_idx}')\n",
    "      codes = torch.load(f'experiments/notebook/indexes/2bits/{chunk_idx}.codes.pt').cpu().tolist()\n",
    "    for id, code in zip(ids, codes):\n",
    "      code2tok[code][id] += 1\n",
    "      tok2code[id][code] += 1\n",
    "    codes = codes[len(ids):]\n",
    "code2count = Counter({k: len(v) for k, v in code2tok.items()})\n",
    "code2total = Counter({k: sum(v.values()) for k, v in code2tok.items()})\n",
    "code2toppct = Counter({k: v.most_common(1)[0][1] / code2total[k] for k, v in code2tok.items()})\n",
    "tok2count = Counter({k: len(v) for k, v in tok2code.items()})\n",
    "tok2total = Counter({k: sum(v.values()) for k, v in tok2code.items()})\n",
    "tok2toppct = Counter({k: v.most_common(1)[0][1] / tok2total[k] for k, v in tok2code.items()})"
   ]
  },
  {
   "cell_type": "code",
   "execution_count": 77,
   "id": "9e0b7db0-1c0a-43a9-a325-ffe4af531fec",
   "metadata": {},
   "outputs": [],
   "source": [
    "clstoks = {1, 2, 101, 102} # [q] [d] [cls] [sep]\n",
    "code2count_nocls = Counter({k: len([x for x in v if x not in clstoks]) for k, v in code2tok.items()})\n",
    "code2total_nocls = Counter({k: sum([y for x, y in v.items() if x not in clstoks]) for k, v in code2tok.items()})\n",
    "code2toppct_nocls = Counter({k: Counter({x: y for x, y in v.items() if x not in clstoks}).most_common(1)[0][1] / code2total_nocls[k] for k, v in code2tok.items() if code2total_nocls[k] > 0})\n",
    "tok2count_nocls = Counter({k: len(v) for k, v in tok2code.items() if k not in clstoks})\n",
    "tok2total_nocls = Counter({k: sum(v.values()) for k, v in tok2code.items() if k not in clstoks})\n",
    "tok2toppct_nocls = Counter({k: v.most_common(1)[0][1] / tok2total_nocls[k] for k, v in tok2code.items() if k not in clstoks})\n"
   ]
  },
  {
   "cell_type": "code",
   "execution_count": 19,
   "id": "4c4d4511-809f-4dea-82a8-dfa2edf8129f",
   "metadata": {},
   "outputs": [],
   "source": [
    "import seaborn as sns\n",
    "import matplotlib.pyplot as plt"
   ]
  },
  {
   "cell_type": "code",
   "execution_count": 83,
   "id": "fd1d6f4e-ff38-4543-b9c1-5f36529e2a5d",
   "metadata": {},
   "outputs": [
    {
     "data": {
      "image/png": "[encoded data removed]",
      "text/plain": [
       "<Figure size 500x200 with 1 Axes>"
      ]
     },
     "metadata": {},
     "output_type": "display_data"
    }
   ],
   "source": [
    "fig, ax = plt.subplots(figsize=(5, 2))\n",
    "sns.histplot(tok2toppct.values(), bins=20, legend=False, ax=ax, stat='percent')\n",
    "ax.set_ylabel('% of Tokens')\n",
    "ax.set_xlabel('Majority Cluster Proportion')\n",
    "ax.set_xlim(0, 1)\n",
    "ax.set_xticks([x/10 for x in range(11)])\n",
    "ax.set_ylim(0, 50)\n",
    "m = median(tok2toppct.values())\n",
    "ax.axvline(m, c='k')\n",
    "ax.text(m+0.01, 15, f'median={m:.2f}', rotation='vertical')\n",
    "plt.savefig('tok2toppct.pdf', bbox_inches='tight')"
   ]
  },
  {
   "cell_type": "code",
   "execution_count": 85,
   "id": "5942378f-b22b-435f-98cd-8580075bc233",
   "metadata": {},
   "outputs": [
    {
     "data": {
      "image/png": "[encoded data removed]",
      "text/plain": [
       "<Figure size 500x200 with 1 Axes>"
      ]
     },
     "metadata": {},
     "output_type": "display_data"
    }
   ],
   "source": [
    "fig, ax = plt.subplots(figsize=(5, 2))\n",
    "sns.histplot(code2toppct.values(), bins=20, legend=False, ax=ax, stat='percent')\n",
    "ax.set_ylabel('% of Clusters')\n",
    "ax.set_xlabel('Majority Token Proportion')\n",
    "ax.set_xlim(0, 1)\n",
    "ax.set_xticks([x/10 for x in range(11)])\n",
    "ax.set_ylim(0, 50)\n",
    "m = median(code2toppct.values())\n",
    "ax.axvline(m, c='k')\n",
    "ax.text(m+0.01, 15, f'median={m:.2f}', rotation='vertical')\n",
    "plt.savefig('code2toppct.pdf', bbox_inches='tight')"
   ]
  },
  {
   "cell_type": "code",
   "execution_count": 82,
   "id": "b8c0f637-2235-4f89-a922-659070df1080",
   "metadata": {},
   "outputs": [
    {
     "data": {
      "image/png": "[encoded data removed]",
      "text/plain": [
       "<Figure size 500x200 with 1 Axes>"
      ]
     },
     "metadata": {},
     "output_type": "display_data"
    }
   ],
   "source": [
    "fig, ax = plt.subplots(figsize=(5, 2))\n",
    "sns.histplot(tok2toppct_nocls.values(), bins=20, legend=False, ax=ax, stat='percent')\n",
    "ax.set_ylabel('% of Tokens')\n",
    "ax.set_xlabel('Majority Cluster Proportion')\n",
    "ax.set_xlim(0, 1)\n",
    "ax.set_xticks([x/10 for x in range(11)])\n",
    "ax.set_ylim(0, 50)\n",
    "m = median(tok2toppct_nocls.values())\n",
    "ax.axvline(m, c='k')\n",
    "ax.text(m+0.01, 15, f'median={m:.2f}', rotation='vertical')\n",
    "plt.savefig('tok2toppct_nocls.pdf', bbox_inches='tight')"
   ]
  },
  {
   "cell_type": "code",
   "execution_count": 84,
   "id": "e2db8f11-7b83-4283-b298-76f6c44d9dbc",
   "metadata": {},
   "outputs": [
    {
     "data": {
      "image/png": "[encoded data removed]",
      "text/plain": [
       "<Figure size 500x200 with 1 Axes>"
      ]
     },
     "metadata": {},
     "output_type": "display_data"
    }
   ],
   "source": [
    "fig, ax = plt.subplots(figsize=(5, 2))\n",
    "sns.histplot(code2toppct_nocls.values(), bins=20, legend=False, ax=ax, stat='percent')\n",
    "ax.set_ylabel('% of Clusters')\n",
    "ax.set_xlabel('Majority Token Proportion')\n",
    "ax.set_xlim(0, 1)\n",
    "ax.set_xticks([x/10 for x in range(11)])\n",
    "ax.set_ylim(0, 50)\n",
    "m = median(code2toppct_nocls.values())\n",
    "ax.axvline(m, c='k')\n",
    "ax.text(m+0.01, 15, f'median={m:.2f}', rotation='vertical')\n",
    "plt.savefig('code2toppct_nocls.pdf', bbox_inches='tight')"
   ]
  },
  {
   "cell_type": "code",
   "execution_count": 90,
   "id": "eb82cd23-3025-4ed8-a08f-03d6ae8597f9",
   "metadata": {},
   "outputs": [
    {
     "data": {
      "image/png": "[encoded data removed]",
      "text/plain": [
       "<Figure size 500x200 with 1 Axes>"
      ]
     },
     "metadata": {},
     "output_type": "display_data"
    }
   ],
   "source": [
    "fig, ax = plt.subplots(figsize=(5, 2))\n",
    "sns.histplot(code2count.values(), bins=20, legend=False, ax=ax, stat='percent', log_scale=True)\n",
    "ax.set_ylabel('% of Clusters')\n",
    "ax.set_xlabel('Majority Token Proportion')\n",
    "# ax.set_xlim(0, 1)\n",
    "# ax.set_xticks([x/10 for x in range(11)])\n",
    "ax.set_ylim(0, 50)\n",
    "# ax.set_xscale('log')\n",
    "m = median(code2count.values())\n",
    "ax.axvline(m, c='k')\n",
    "ax.text(m+0.01, 15, f'median={m:.2f}', rotation='vertical')\n",
    "plt.savefig('code2tocount.pdf', bbox_inches='tight')"
   ]
  },
  {
   "cell_type": "code",
   "execution_count": 91,
   "id": "fdf76319-c072-4fbe-9810-172c249d9710",
   "metadata": {},
   "outputs": [
    {
     "data": {
      "text/plain": [
       "0.0220184326171875"
      ]
     },
     "execution_count": 91,
     "metadata": {},
     "output_type": "execute_result"
    }
   ],
   "source": [
    "sum(1 for x, y in code2count.items() if y == 1) / len(code2count)"
   ]
  },
  {
   "cell_type": "code",
   "execution_count": 95,
   "id": "e0e42e76-4d59-4b2d-9bb1-ae4270a3a5a9",
   "metadata": {},
   "outputs": [
    {
     "data": {
      "text/plain": [
       "0.387420654296875"
      ]
     },
     "execution_count": 95,
     "metadata": {},
     "output_type": "execute_result"
    }
   ],
   "source": [
    "sum(1 for x, y in code2toppct.items() if y > 0.95) / len(code2toppct)"
   ]
  },
  {
   "cell_type": "code",
   "execution_count": 96,
   "id": "d6d2bf19-1e5d-49a1-8645-472f1a44297c",
   "metadata": {},
   "outputs": [
    {
     "data": {
      "text/plain": [
       "0.33312618677714484"
      ]
     },
     "execution_count": 96,
     "metadata": {},
     "output_type": "execute_result"
    }
   ],
   "source": [
    "sum(1 for x, y in tok2toppct.items() if y > 0.95) / len(tok2toppct)"
   ]
  },
  {
   "cell_type": "code",
   "execution_count": 13,
   "id": "0e20de3c-47d7-4b15-a37a-8cd020c81eb0",
   "metadata": {},
   "outputs": [
    {
     "name": "stderr",
     "output_type": "stream",
     "text": [
      "/home/sean/miniconda3/lib/python3.11/site-packages/seaborn/axisgrid.py:118: UserWarning: The figure layout has changed to tight\n",
      "  self._figure.tight_layout(*args, **kwargs)\n"
     ]
    },
    {
     "data": {
      "text/plain": [
       "<seaborn.axisgrid.FacetGrid at 0x7fcb20ce3550>"
      ]
     },
     "execution_count": 13,
     "metadata": {},
     "output_type": "execute_result"
    },
    {
     "data": {
      "image/png": "[encoded data removed]",
      "text/plain": [
       "<Figure size 558.75x500 with 1 Axes>"
      ]
     },
     "metadata": {},
     "output_type": "display_data"
    }
   ],
   "source": [
    "sns.displot(tok2count.values())"
   ]
  },
  {
   "cell_type": "code",
   "execution_count": 12,
   "id": "e39a5a04-a3da-45c4-bd97-eff14610586e",
   "metadata": {},
   "outputs": [
    {
     "data": {
      "text/plain": [
       "0.8317135549872122"
      ]
     },
     "execution_count": 12,
     "metadata": {},
     "output_type": "execute_result"
    }
   ],
   "source": [
    "code2toppct[87188]"
   ]
  },
  {
   "cell_type": "code",
   "execution_count": 38,
   "id": "72e71e98-c239-41be-b89e-d7d6cbb1d8f6",
   "metadata": {},
   "outputs": [
    {
     "name": "stdout",
     "output_type": "stream",
     "text": [
      "Cluster 87188 (size=1955)\n",
      " 83.2% [CLS]\n",
      " 16.4% [SEP]\n",
      " 0.2% and\n",
      " 0.2% but\n",
      " 0.1% the\n",
      "Cluster 21395 (size=2874)\n",
      " 93.7% gold\n",
      " 5.8% [unused1]\n",
      " 0.2% “\n",
      " 0.1% ”\n",
      " 0.1% –\n",
      " 0.1% [2 more]\n",
      "Cluster 48169 (size=3194)\n",
      " 84.4% grow\n",
      " 10.9% grows\n",
      " 2.7% growing\n",
      " 1.0% grew\n",
      " 0.6% grown\n",
      " 0.8% [10 more]\n",
      "Cluster 130592 (size=5742)\n",
      " 99.1% ##fish\n",
      " 0.3% ”\n",
      " 0.3% ’\n",
      " 0.2% –\n",
      " 0.1% —\n",
      " 0.2% [2 more]\n",
      "Cluster 225987 (size=3184)\n",
      " 64.0% [CLS]\n",
      " 33.2% [SEP]\n",
      " 0.8% the\n",
      " 0.8% and\n",
      " 0.3% but\n",
      " 2.1% [14 more]\n",
      "Cluster 30151 (size=1881)\n",
      " 86.3% grow\n",
      " 7.7% grows\n",
      " 4.3% growing\n",
      " 0.6% to\n",
      " 0.3% grown\n",
      " 1.0% [8 more]\n",
      "Cluster 227745 (size=3727)\n",
      " 89.7% grow\n",
      " 4.9% grows\n",
      " 3.1% growing\n",
      " 0.8% grew\n",
      " 0.5% to\n",
      " 1.9% [9 more]\n",
      "Cluster 239463 (size=3613)\n",
      " 91.4% gold\n",
      " 5.2% [unused1]\n",
      " 1.5% ’\n",
      " 0.8% [CLS]\n",
      " 0.4% “\n",
      " 1.1% [10 more]\n",
      "Cluster 61746 (size=3971)\n",
      " 99.5% ##fish\n",
      " 0.4% ’\n",
      " 0.1% –\n",
      " 0.0% fish\n",
      " 0.0% ##es\n",
      " 0.1% [2 more]\n",
      "Cluster 79630 (size=3914)\n",
      " 96.3% gold\n",
      " 2.9% [unused1]\n",
      " 0.3% ”\n",
      " 0.3% ’\n",
      " 0.1% “\n",
      " 0.3% [4 more]\n",
      "Cluster 36303 (size=2951)\n",
      " 99.3% ##fish\n",
      " 0.5% ’\n",
      " 0.1% ”\n",
      " 0.1% fish\n",
      " 0.0% –\n",
      " 0.1% [1 more]\n",
      "Cluster 130782 (size=3537)\n",
      " 71.3% [SEP]\n",
      " 17.4% [CLS]\n",
      " 2.7% the\n",
      " 1.2% [unused1]\n",
      " 0.8% and\n",
      " 13.3% [71 more]\n",
      "Cluster 233759 (size=3076)\n",
      " 83.8% gold\n",
      " 13.8% [unused1]\n",
      " 0.9% “\n",
      " 0.5% golden\n",
      " 0.2% ‘\n",
      " 1.4% [8 more]\n",
      "Cluster 111726 (size=2558)\n",
      " 94.5% gold\n",
      " 4.3% [unused1]\n",
      " 0.7% “\n",
      " 0.2% ‘\n",
      " 0.1% ’\n",
      " 0.3% [4 more]\n",
      "Cluster 190343 (size=64)\n",
      " 15.6% [SEP]\n",
      " 9.4% [CLS]\n",
      " 7.8% s\n",
      " 6.2% [unused1]\n",
      " 6.2% the\n",
      " 2.0% [25 more]\n",
      "Cluster 162309 (size=5027)\n",
      " 94.6% grow\n",
      " 3.7% growing\n",
      " 1.2% grown\n",
      " 0.1% grew\n",
      " 0.1% [unused1]\n",
      " 0.6% [6 more]\n",
      "Cluster 214740 (size=2232)\n",
      " 99.7% ##fish\n",
      " 0.3% ’\n",
      " 0.0% ”\n",
      "Cluster 200911 (size=2739)\n",
      " 50.1% [CLS]\n",
      " 32.5% [SEP]\n",
      " 6.9% the\n",
      " 3.0% [unused1]\n",
      " 2.0% of\n",
      " 9.6% [38 more]\n"
     ]
    }
   ],
   "source": [
    "for x in [87188,21395,48169,130592,225987,30151,227745,239463,61746,79630,36303,130782,233759,111726,190343,162309,214740,200911,]:\n",
    "    print(f'Cluster {x} (size={code2total[x]})')\n",
    "    for k, v in code2tok[x].most_common(5):\n",
    "        print(f' {v/code2total[x]*100:.1f}% {tokenizer.decode(k)}')\n",
    "    if code2count[x] > 5:\n",
    "        value = sum(x/code2total[x] for _, x in code2tok[x].most_common()[5:])\n",
    "        print(f' {value*100:.1f}% [{code2count[x]-5} more]')"
   ]
  },
  {
   "cell_type": "code",
   "execution_count": 54,
   "id": "feff60d7-bb0e-4b2c-9486-b518dec2a90b",
   "metadata": {},
   "outputs": [],
   "source": [
    "import math\n",
    "N = sum(code2total.values())\n",
    "hc = -1 * sum(v / N * math.log(v/N, 10) for v in code2total.values())"
   ]
  },
  {
   "cell_type": "code",
   "execution_count": 59,
   "id": "3b3e9686-bacc-49b2-afb4-8a9b5e39feda",
   "metadata": {},
   "outputs": [],
   "source": [
    "hck = -1 * sum( sum( v/N * math.log(v/tok2total[t], 10) for t, v in vs.items() ) for k, vs in code2tok.items() )"
   ]
  },
  {
   "cell_type": "code",
   "execution_count": 62,
   "id": "805efe2b-88eb-4d3b-92c8-c7d4cca8cf8c",
   "metadata": {},
   "outputs": [
    {
     "data": {
      "text/plain": [
       "0.5156544309406106"
      ]
     },
     "execution_count": 62,
     "metadata": {},
     "output_type": "execute_result"
    }
   ],
   "source": [
    "1 - hck / hc"
   ]
  },
  {
   "cell_type": "code",
   "execution_count": 74,
   "id": "38d8f231-7a0f-44c0-a01f-f88356edf8f8",
   "metadata": {},
   "outputs": [
    {
     "data": {
      "text/plain": [
       "'[unused1]'"
      ]
     },
     "execution_count": 74,
     "metadata": {},
     "output_type": "execute_result"
    }
   ],
   "source": [
    "tokenizer.decode(2)"
   ]
  },
  {
   "cell_type": "code",
   "execution_count": null,
   "id": "f4653eba-2927-4b70-9c39-0dc579486d67",
   "metadata": {},
   "outputs": [],
   "source": []
  }
 ],
 "metadata": {
  "kernelspec": {
   "display_name": "Python 3 (ipykernel)",
   "language": "python",
   "name": "python3"
  },
  "language_info": {
   "codemirror_mode": {
    "name": "ipython",
    "version": 3
   },
   "file_extension": ".py",
   "mimetype": "text/x-python",
   "name": "python",
   "nbconvert_exporter": "python",
   "pygments_lexer": "ipython3",
   "version": "3.11.4"
  }
 },
 "nbformat": 4,
 "nbformat_minor": 5
}
