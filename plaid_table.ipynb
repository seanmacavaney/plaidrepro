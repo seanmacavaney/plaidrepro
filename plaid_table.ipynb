{
 "cells": [
  {
   "cell_type": "code",
   "execution_count": 1,
   "id": "441b4fe0-dac5-4614-8c28-59af26fe81b3",
   "metadata": {},
   "outputs": [],
   "source": [
    "import seaborn as sns\n",
    "import matplotlib.pyplot as plt\n",
    "import pandas as pd\n",
    "from ir_measures import RR, R, nDCG, read_trec_run\n",
    "import ir_datasets\n",
    "import json\n",
    "import gzip"
   ]
  },
  {
   "cell_type": "code",
   "execution_count": 18,
   "id": "bcb50c05-3473-45e3-814f-a3f3eb76a85a",
   "metadata": {},
   "outputs": [],
   "source": [
    "df = []\n",
    "for ncells in [1, 2, 4, 8]:\n",
    "  for centroid_score_threshold in [0.4, 0.45, 0.5, 0.6, 0.75]:\n",
    "    for ndocs in [256, 1024, 4096, 8192]:\n",
    "        id = f'plaid.ncells-{ncells}.cst-{centroid_score_threshold}.ndocs-{ndocs}'\n",
    "        latency = float(open(f'results/devs.{id}.time').read())\n",
    "        res_dl19 = json.load(gzip.open(f'results/dl19.{id}.run.gz.measures.json.gz'))\n",
    "        res_devs = json.load(gzip.open(f'results/devs.{id}.run.gz.measures.json.gz'))\n",
    "        df.append({\n",
    "            'ncells': ncells,\n",
    "            'cst': centroid_score_threshold,\n",
    "            'ndocs': ndocs,\n",
    "            'devs_latency': latency,\n",
    "            'dl19_ndcg10': res_dl19['avg']['nDCG@10'],\n",
    "            'dl19_ndcg1k': res_dl19['avg']['nDCG@1000'],\n",
    "            'dl19_r1k': res_dl19['avg']['R(rel=2)@1000'],\n",
    "            'dl19_rbo99': res_dl19['avg']['RBO(p=0.99)'],\n",
    "            'devs_rr10': res_devs['avg']['RR@10'],\n",
    "            'devs_r1k': res_devs['avg']['R@1000'],\n",
    "            'devs_rbo99': res_devs['avg']['RBO(p=0.99)'],\n",
    "        })\n",
    "res_dl19 = json.load(gzip.open(f'results/dl19.exhuastive.run.gz.measures.json.gz'))\n",
    "res_devs = json.load(gzip.open(f'results/devs.exhuastive.run.gz.measures.json.gz'))\n",
    "df.append({\n",
    "    'ncells': 0,\n",
    "    'cst': 0,\n",
    "    'ndocs': 0,\n",
    "    'devs_latency': None,\n",
    "    'dl19_ndcg10': res_dl19['avg']['nDCG@10'],\n",
    "    'dl19_ndcg1k': res_dl19['avg']['nDCG@1000'],\n",
    "    'dl19_r1k': res_dl19['avg']['R(rel=2)@1000'],\n",
    "    'dl19_rbo99': res_dl19['avg']['RBO(p=0.99)'],\n",
    "    'devs_rr10': res_devs['avg']['RR@10'],\n",
    "    'devs_r1k': res_devs['avg']['R@1000'],\n",
    "    'devs_rbo99': res_devs['avg']['RBO(p=0.99)'],\n",
    "})\n",
    "df = pd.DataFrame(df)\n",
    "df = df[df.ncells!=100]"
   ]
  },
  {
   "cell_type": "code",
   "execution_count": 19,
   "id": "955d3d78-4502-4e92-8760-ea219d70b4df",
   "metadata": {},
   "outputs": [
    {
     "name": "stdout",
     "output_type": "stream",
     "text": [
      "& 0.394 & 0.833 & 0.612 & 80.5 & 0.739 & 0.553 & 0.555 \\\\\n",
      "& 0.397 & 0.933 & 0.890 & 103.4 & 0.745 & 0.707 & 0.786 \\\\\n",
      "& 0.397 & 0.975 & 0.983 & 163.9 & 0.745 & 0.760 & 0.871 \\\\\n",
      "& 0.397 & 0.984 & 1.000 & nan & 0.745 & 0.769 & 0.894 \\\\\n"
     ]
    }
   ],
   "source": [
    "measure = 'devs_rbo99'\n",
    "\n",
    "for i, (ncells, cst, ndocs) in enumerate([(1, .5, 256), (2, .45, 1024), (4, .4, 4096), (0,0,0)]):\n",
    "    subdf = df[(df.ncells==ncells) & (df.cst==cst) & (df.ndocs==ndocs)]\n",
    "    assert len(subdf) == 1\n",
    "    r = subdf.iloc[0]\n",
    "    print(f'& {r.devs_rr10:.3f} & {r.devs_r1k:.3f} & {r.devs_rbo99:.3f} & {r.devs_latency:.1f} & {r.dl19_ndcg10:.3f} & {r.dl19_ndcg1k:.3f} & {r.dl19_r1k:.3f} \\\\\\\\')\n",
    "    "
   ]
  },
  {
   "cell_type": "code",
   "execution_count": null,
   "id": "a598c116-c05e-4a07-9d93-30c654f7d96a",
   "metadata": {},
   "outputs": [],
   "source": []
  }
 ],
 "metadata": {
  "kernelspec": {
   "display_name": "Python 3 (ipykernel)",
   "language": "python",
   "name": "python3"
  },
  "language_info": {
   "codemirror_mode": {
    "name": "ipython",
    "version": 3
   },
   "file_extension": ".py",
   "mimetype": "text/x-python",
   "name": "python",
   "nbconvert_exporter": "python",
   "pygments_lexer": "ipython3",
   "version": "3.11.4"
  }
 },
 "nbformat": 4,
 "nbformat_minor": 5
}
